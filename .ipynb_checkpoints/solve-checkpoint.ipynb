{
 "cells": [
  {
   "cell_type": "code",
   "execution_count": 3,
   "metadata": {},
   "outputs": [
    {
     "ename": "SyntaxError",
     "evalue": "invalid syntax (2871667456.py, line 1)",
     "output_type": "error",
     "traceback": [
      "\u001b[1;36m  File \u001b[1;32m\"C:\\Users\\Administrator\\AppData\\Local\\Temp\\2\\ipykernel_8088\\2871667456.py\"\u001b[1;36m, line \u001b[1;32m1\u001b[0m\n\u001b[1;33m    pip install pyodbc\u001b[0m\n\u001b[1;37m              ^\u001b[0m\n\u001b[1;31mSyntaxError\u001b[0m\u001b[1;31m:\u001b[0m invalid syntax\n"
     ]
    }
   ],
   "source": [
    "import pandas as pd\n",
    "import numpy as np\n",
    "import matplotlib.pyplot as plt\n",
    "import pyodbc\n",
    "from sqlalchemy import create_engine\n",
    "\n",
    "# Replace these variables with your database connection details\n",
    "db_user = 'ALX_Administrator'\n",
    "db_password = 'B1b9915'\n",
    "db_host = '192.168.50.104/MSSQLSERVER01'  \n",
    "db_port = '1433'  # Default SQL Server port is 1433,\n",
    "db_name = 'master'\n",
    "\n",
    "# Create the connection string for SQLAlchemy using pyodbc\n",
    "connection_string = f'mssql+pyodbc://{db_user}:{db_password}@{db_host}:{db_port}/{db_name}?driver=ODBC+Driver+17+for+SQL+Server'\n",
    "\n",
    "# Create the database engine\n",
    "engine = create_engine(connection_string)\n",
    "\n",
    "# Query to get all table names in the database (optional step)\n",
    "table_query = \"\"\"\n",
    "SELECT TABLE_NAME\n",
    "FROM INFORMATION_SCHEMA.TABLES\n",
    "WHERE TABLE_TYPE = 'BASE TABLE' AND TABLE_CATALOG = 'Datathon2024'\n",
    "\"\"\"\n",
    "# Fetch table names\n",
    "tables_df = pd.read_sql(table_query, engine)\n",
    "print(\"List of Tables:\")\n",
    "print(tables_df)\n",
    "\n",
    "# Query to select all data from the 'Person' table\n",
    "query = 'SELECT * FROM Person'\n",
    "\n",
    "# Read data into a pandas DataFrame\n",
    "df = pd.read_sql(query, engine)\n",
    "\n",
    "# Display the first few rows of the DataFrame\n",
    "print(\"First few rows of the 'Person' table:\")\n",
    "print(df.head())\n"
   ]
  },
  {
   "cell_type": "code",
   "execution_count": null,
   "metadata": {},
   "outputs": [],
   "source": []
  }
 ],
 "metadata": {
  "kernelspec": {
   "display_name": "Python 3 (ipykernel)",
   "language": "python",
   "name": "python3"
  },
  "language_info": {
   "codemirror_mode": {
    "name": "ipython",
    "version": 3
   },
   "file_extension": ".py",
   "mimetype": "text/x-python",
   "name": "python",
   "nbconvert_exporter": "python",
   "pygments_lexer": "ipython3",
   "version": "3.7.16"
  }
 },
 "nbformat": 4,
 "nbformat_minor": 2
}
